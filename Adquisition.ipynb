{
 "cells": [
  {
   "cell_type": "code",
   "execution_count": null,
   "id": "0b491789",
   "metadata": {},
   "outputs": [],
   "source": [
    "    "
   ]
  },
  {
   "cell_type": "code",
   "execution_count": null,
   "id": "2c0268ce",
   "metadata": {},
   "outputs": [],
   "source": [
    "#Data is adquire from free data at the API Madrid council free data \n",
    "#It's imported with request library and made .json() to be readable\n",
    "instalaciones_dep_data=rq.get('https://datos.madrid.es/egob/catalogo/200215-0-instalaciones-deportivas.json')\n",
    "instalaciones_dep_data=instalaciones_dep_data.json()"
   ]
  },
  {
   "cell_type": "code",
   "execution_count": null,
   "id": "405bb75f",
   "metadata": {},
   "outputs": [],
   "source": [
    "#Data from BiciMAD totems is adquire from Azure Portal provided by the instructor\n",
    "#It's imported as a JSON file\n",
    "bicimad= pd.read_json(\"../ih_datamadpt1121_project_m1/Estaciones.json\")"
   ]
  }
 ],
 "metadata": {
  "kernelspec": {
   "display_name": "Python [conda env:project_1]",
   "language": "python",
   "name": "conda-env-project_1-py"
  },
  "language_info": {
   "codemirror_mode": {
    "name": "ipython",
    "version": 3
   },
   "file_extension": ".py",
   "mimetype": "text/x-python",
   "name": "python",
   "nbconvert_exporter": "python",
   "pygments_lexer": "ipython3",
   "version": "3.7.11"
  }
 },
 "nbformat": 4,
 "nbformat_minor": 5
}
