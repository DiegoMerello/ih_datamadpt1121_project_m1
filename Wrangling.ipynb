{
 "cells": [
  {
   "cell_type": "code",
   "execution_count": null,
   "id": "470191e4",
   "metadata": {},
   "outputs": [],
   "source": [
    "#data of sports centres is cleaned. First useless columns are dropped. Secondly, values from address.street-address are transformed into string, then every word is capitalized\n",
    "#Since I had NaN values at certain columns I've dropped to have no probs\n",
    "#I renamed columns since they are going to be my start point and applied function to covert 2D points into mercator projection\n",
    "instalaciones_dep_data = pd.json_normalize(instalaciones_dep_data['@graph'])\n",
    "instalaciones_dep_data=instalaciones_dep_data.drop(['@id', '@type','id', 'relation', 'address.district.@id', 'address.area.@id', 'address.locality', 'address.postal-code', 'organization.organization-desc', 'organization.accesibility', 'organization.schedule', 'organization.services','organization.organization-name'], axis='columns')\n",
    "instalaciones_dep_data['address.street-address']=instalaciones_dep_data['address.street-address'].str.title()\n",
    "instalaciones_dep_data.dropna(subset=['location.latitude','location.longitude'], inplace=True)\n",
    "instalaciones_dep_data1=instalaciones_dep_data.rename(columns={'location.latitude':'lat_start','location.longitude':'long_start'})\n",
    "instalaciones_dep_data1[\"Punto Inicio\"] = instalaciones_dep_data1.apply(lambda x: to_mercator(x[\"lat_start\"],x[\"long_start\"]), axis = 1)"
   ]
  },
  {
   "cell_type": "code",
   "execution_count": null,
   "id": "a4dfe3f9",
   "metadata": {},
   "outputs": [],
   "source": [
    "#Data from BiciMAD is cleand dropping useless columns, lamba function is applied to split up values from one column, additionally, integres are converted into float numbers since it was needed.\n",
    "# Following same reasony as above, I converted 2D coordinates into mercator coordinates\n",
    "bicimad=bicimad.drop(['light', 'number', 'activate', 'no_available', 'total_bases', 'dock_bikes', 'free_bases','reservations_count','geometry_type'], axis='columns')\n",
    "bicimad['long_finish']=bicimad['geometry_coordinates'].map(lambda x:x.split(',')[0].replace('[','')).astype(float)\n",
    "bicimad['lat_finish']=bicimad['geometry_coordinates'].map(lambda x:x.split(',')[1].replace(']','')).astype(float)\n",
    "bicimad=bicimad.drop(['id','geometry_coordinates'],axis='columns')\n",
    "bicimad[\"Punto Final\"] = bicimad.apply(lambda x: to_mercator(x[\"lat_finish\"],x[\"long_finish\"]), axis = 1)\n"
   ]
  }
 ],
 "metadata": {
  "kernelspec": {
   "display_name": "Python [conda env:project_1]",
   "language": "python",
   "name": "conda-env-project_1-py"
  },
  "language_info": {
   "codemirror_mode": {
    "name": "ipython",
    "version": 3
   },
   "file_extension": ".py",
   "mimetype": "text/x-python",
   "name": "python",
   "nbconvert_exporter": "python",
   "pygments_lexer": "ipython3",
   "version": "3.7.11"
  }
 },
 "nbformat": 4,
 "nbformat_minor": 5
}
